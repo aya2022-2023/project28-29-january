{
 "cells": [
  {
   "cell_type": "code",
   "execution_count": 2,
   "id": "394f2b2d",
   "metadata": {},
   "outputs": [
    {
     "name": "stdout",
     "output_type": "stream",
     "text": [
      "here is the list without None: [12, 0, 23, -55, 234, 89, 0, 6, -12]\n"
     ]
    }
   ],
   "source": [
    "1.\t# Remove None\n",
    "\n",
    "input=[12, 0, None, 23, None, -55, 234, 89, None, 0, 6, -12]\n",
    "List_without_None= [elem for elem in input if elem is not None]\n",
    "print(f\"here is the list without None: {List_without_None}\")"
   ]
  },
  {
   "cell_type": "code",
   "execution_count": 10,
   "id": "7d4624c7",
   "metadata": {},
   "outputs": [
    {
     "name": "stdout",
     "output_type": "stream",
     "text": [
      "the area of square of 3 is: 144 meters square\n"
     ]
    }
   ],
   "source": [
    "2.\t# write a function for calculating area of a square \n",
    "\n",
    "def areaSquare(a):\n",
    "  area=a*a\n",
    "  return area\n",
    "\n",
    "print(f\"the area of square of 3 is: {areaSquare(12)} meters square\")"
   ]
  },
  {
   "cell_type": "code",
   "execution_count": 28,
   "id": "88f0ef5e",
   "metadata": {},
   "outputs": [
    {
     "name": "stdout",
     "output_type": "stream",
     "text": [
      "3.141592653589793\n",
      "the area of Circle is: 314.1592653589793\n"
     ]
    }
   ],
   "source": [
    "3.\t# write a function for calculating area of a circle\n",
    "import math\n",
    "\n",
    "def areaCircle(r):\n",
    "  pi=math.pi\n",
    "  print(pi)\n",
    "  area= pi*r**2\n",
    "  return area\n",
    "\n",
    "print(f\"the area of Circle is: {areaCircle(10)}\")\n",
    "\n",
    "#NOTE: the outpu is not 202"
   ]
  },
  {
   "cell_type": "code",
   "execution_count": null,
   "id": "7d990393",
   "metadata": {},
   "outputs": [],
   "source": []
  }
 ],
 "metadata": {
  "kernelspec": {
   "display_name": "Python 3 (ipykernel)",
   "language": "python",
   "name": "python3"
  },
  "language_info": {
   "codemirror_mode": {
    "name": "ipython",
    "version": 3
   },
   "file_extension": ".py",
   "mimetype": "text/x-python",
   "name": "python",
   "nbconvert_exporter": "python",
   "pygments_lexer": "ipython3",
   "version": "3.9.13"
  }
 },
 "nbformat": 4,
 "nbformat_minor": 5
}
